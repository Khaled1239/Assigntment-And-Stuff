{
  "nbformat": 4,
  "nbformat_minor": 0,
  "metadata": {
    "colab": {
      "provenance": []
    },
    "kernelspec": {
      "name": "python3",
      "display_name": "Python 3"
    },
    "language_info": {
      "name": "python"
    }
  },
  "cells": [
    {
      "cell_type": "markdown",
      "source": [
        "**KHALID MUHAMMAD\n",
        "103102400033\n",
        "DS-04-02**"
      ],
      "metadata": {
        "id": "6u_ujoPm8xIk"
      }
    },
    {
      "cell_type": "markdown",
      "source": [
        "**PERTEMUAN 1**"
      ],
      "metadata": {
        "id": "dduf8di99eia"
      }
    },
    {
      "cell_type": "code",
      "source": [
        "#Cara Print\n",
        "print(\"HaiHaiHai\")\n",
        "print(f\"HaiHaiHai\")\n"
      ],
      "metadata": {
        "colab": {
          "base_uri": "https://localhost:8080/"
        },
        "id": "qcOVi30L9pp3",
        "outputId": "002c2a08-42ca-4422-ab2c-bd6d8465f3fb"
      },
      "execution_count": null,
      "outputs": [
        {
          "output_type": "stream",
          "name": "stdout",
          "text": [
            "HaiHaiHai\n",
            "HaiHaiHai\n"
          ]
        }
      ]
    },
    {
      "cell_type": "code",
      "source": [
        "#Komentar\n",
        "\"\"\"\n",
        "ini juga komentar gaes, tapi bisa banyak baris\n",
        "ini juga komentar gaes, tapi bisa banyak baris\n",
        "ini juga komentar gaes, tapi bisa banyak baris\n",
        "ini juga komentar gaes, tapi bisa banyak baris\n",
        "\"\"\"\n",
        "print(\"Komentar tidak akan mengeluarkan output apapun\")\n"
      ],
      "metadata": {
        "id": "ZPRdyEivJtxp",
        "colab": {
          "base_uri": "https://localhost:8080/"
        },
        "outputId": "7961610b-5e6a-4556-fdd5-9202edfefd4f"
      },
      "execution_count": 6,
      "outputs": [
        {
          "output_type": "stream",
          "name": "stdout",
          "text": [
            "Komentar tidak akan mengeluarkan output apapun\n"
          ]
        }
      ]
    },
    {
      "cell_type": "code",
      "source": [
        "#Variable\n",
        "\"\"\"\n",
        "Aturan Penulisan Variabel:\n",
        "\n",
        "    Nama variabel boleh diawali menggunakan huruf atau garis bawah _. Contoh: nama, _nama, namaKu, nama_variabel\n",
        "    Karakter selanjutnya dapat berupa huruf, garis bawah _ atau angka. Contoh: __nama, n2, nilai1\n",
        "    Variabel tidak boleh dimulai dengan angka ataupun simbol.\n",
        "    Variabel tidak boleh berupa kata kunci (keyword) yang ada dalam Python. Contoh: if, else, while, for, dan masih banyak lagi\n",
        "\n",
        "\"\"\"\n",
        "# Variabel\n",
        "Nama = \"Khalid\"\n",
        "umur = 100\n",
        "status_pernikahan = \"Belum Menikah\"\n",
        "statuspernikahan = \"Belum Menikah\"\n"
      ],
      "metadata": {
        "id": "02YXHzPjJwSM"
      },
      "execution_count": 7,
      "outputs": []
    },
    {
      "cell_type": "code",
      "source": [
        "#Tipe Data\n",
        "bilangan_bulat = 10\n",
        "bilangan_desimal = 3.14\n",
        "teks = \"Waddup Son\"\n",
        "teks_multibaris = '''Corvo\n",
        "dan\n",
        "Emily'''\n",
        "boolean = True\n",
        "# Menampilkan nilai variabel\n",
        "nama = \"Corvo\"\n",
        "print('Nama:', nama, 'dan Umur:', umur)\n",
        "print(f\"Nama: {nama} dan Umur: {umur}\")\n",
        "print('\\n')\n",
        "print(teks_multibaris)\n"
      ],
      "metadata": {
        "id": "77ne_kO7J2y5",
        "colab": {
          "base_uri": "https://localhost:8080/"
        },
        "outputId": "52e36b80-6e99-452a-e9e8-d1d32febbd03"
      },
      "execution_count": 8,
      "outputs": [
        {
          "output_type": "stream",
          "name": "stdout",
          "text": [
            "Nama: Corvo dan Umur: 100\n",
            "Nama: Corvo dan Umur: 100\n",
            "\n",
            "\n",
            "Corvo\n",
            "dan\n",
            "Emily\n"
          ]
        }
      ]
    },
    {
      "cell_type": "code",
      "source": [
        "#Multi Statement Variable\n",
        "nama = \"Khalid\"\n",
        "a = 10; b = 50\n",
        "kesibukan, keterangan = 'Berkuliah','Telkom University Surabaya'\n",
        "print(f\"Nama saya {nama} dan Umur saya adalah {a+b} Tahun dan sedang {kesibukan} di {keterangan}\")\n"
      ],
      "metadata": {
        "colab": {
          "base_uri": "https://localhost:8080/"
        },
        "id": "4VRIj2QMJ6lc",
        "outputId": "ec0d6953-77e5-40aa-eb46-cb449a14f793"
      },
      "execution_count": 9,
      "outputs": [
        {
          "output_type": "stream",
          "name": "stdout",
          "text": [
            "Nama saya Khalid dan Umur saya adalah 60 Tahun dan sedang Berkuliah di Telkom University Surabaya\n"
          ]
        }
      ]
    },
    {
      "cell_type": "code",
      "source": [
        "#Input\n",
        "nama = input(\"Masukkan nama Anda: \")\n",
        "makan = 'sudah'\n",
        "harga = int(input(\"Berapa harganya?: \"))\n",
        "\n",
        "print('\\n')\n",
        "print(\"Hai saya\", nama, 'dan saya', makan, 'makan malam menghabiskan uang sebanyak Rp', harga)\n"
      ],
      "metadata": {
        "id": "0p6-XwFMJ-l1",
        "colab": {
          "base_uri": "https://localhost:8080/"
        },
        "outputId": "881feaa1-0e26-46c5-fcc4-79ceecc804e0"
      },
      "execution_count": 38,
      "outputs": [
        {
          "output_type": "stream",
          "name": "stdout",
          "text": [
            "Masukkan nama Anda: Ikan\n",
            "Berapa harganya?: 312000\n",
            "\n",
            "\n",
            "Hai saya Ikan dan saya sudah makan malam menghabiskan uang sebanyak Rp 312000\n"
          ]
        }
      ]
    },
    {
      "cell_type": "code",
      "source": [
        "#import Modul\n",
        "import numpy\n",
        "import pandas as pd\n",
        "import matplotlib.pyplot as plt\n",
        "import seaborn as sns\n",
        "from math import sqrt\n",
        "from pandas import DataFrame\n",
        "from numpy import random\n"
      ],
      "metadata": {
        "id": "Zu4B_SHzKA4s"
      },
      "execution_count": 37,
      "outputs": []
    },
    {
      "cell_type": "code",
      "source": [
        "#Percabangan\n",
        "nilai = int(input(\"Masukkan nilaimu: \"))\n",
        "\n",
        "if nilai >= 70:\n",
        "    print(\"Selamat anda lulus MatKul Algoritma & Pemrograman!\")\n",
        "elif nilai == 20:\n",
        "    print('Semoga Lulus')\n",
        "else:\n",
        "    print(\"Maaf anda tidak lulus\")\n",
        "\n"
      ],
      "metadata": {
        "id": "3KLUzPe3KCg5",
        "colab": {
          "base_uri": "https://localhost:8080/"
        },
        "outputId": "53868273-4faf-43e8-969c-0896104ead32"
      },
      "execution_count": 36,
      "outputs": [
        {
          "output_type": "stream",
          "name": "stdout",
          "text": [
            "Masukkan nilaimu: 90\n",
            "Selamat anda lulus MatKul Algoritma & Pemrograman!\n"
          ]
        }
      ]
    },
    {
      "cell_type": "code",
      "source": [
        "#Looping And While\n",
        "for i in range(1,5):\n",
        "    print(i)\n",
        "    print('Namaku',i)\n",
        "\n",
        "names = ['Corvo',\"Attano\",\"Rex\",\"Sylvia\"]\n",
        "for name in names:\n",
        "    print(\"Nama Saya\",name)\n",
        "    print(\"dan\",name)\n",
        "\n"
      ],
      "metadata": {
        "id": "9fEWmMiOKI3w",
        "colab": {
          "base_uri": "https://localhost:8080/"
        },
        "outputId": "fad9e325-56dc-444e-a168-fb722d4d0abb"
      },
      "execution_count": 35,
      "outputs": [
        {
          "output_type": "stream",
          "name": "stdout",
          "text": [
            "1\n",
            "Namaku 1\n",
            "2\n",
            "Namaku 2\n",
            "3\n",
            "Namaku 3\n",
            "4\n",
            "Namaku 4\n",
            "Nama Saya Corvo\n",
            "dan Corvo\n",
            "Nama Saya Attano\n",
            "dan Attano\n",
            "Nama Saya Rex\n",
            "dan Rex\n",
            "Nama Saya Sylvia\n",
            "dan Sylvia\n"
          ]
        }
      ]
    },
    {
      "cell_type": "code",
      "source": [
        "#Fungsi\n",
        "def jumlah(angka1, angka2):\n",
        "    hasil = angka1+angka2\n",
        "    return hasil\n",
        "\n",
        "def pengurangan(angka1, angka2):\n",
        "    hasil = angka1-angka2\n",
        "    return hasil\n",
        "jumlah(10,4)\n",
        "pengurangan(10,15)"
      ],
      "metadata": {
        "id": "1IkCPeUzKNB5",
        "colab": {
          "base_uri": "https://localhost:8080/"
        },
        "outputId": "891cba9b-a9ce-4de7-edb1-6b8da1dc08fd"
      },
      "execution_count": 34,
      "outputs": [
        {
          "output_type": "execute_result",
          "data": {
            "text/plain": [
              "-5"
            ]
          },
          "metadata": {},
          "execution_count": 34
        }
      ]
    },
    {
      "cell_type": "markdown",
      "source": [
        "**PERTEMUAN 2**"
      ],
      "metadata": {
        "id": "6EFXt3f-BWJG"
      }
    },
    {
      "cell_type": "code",
      "source": [
        "#PENJUMLAHAN SEDERHANA\n",
        "# Input bilangan\n",
        "bilangan1 = float(input(\"Masukkan bilangan: \"))\n",
        "bilangan2 = float(input(\"Masukkan bilangan lagi: \"))\n",
        "\n",
        "# Penjumlahan\n",
        "hasil = bilangan1 + bilangan2\n",
        "\n",
        "# Hasil\n",
        "print(\"Hasil:\", hasil)\n"
      ],
      "metadata": {
        "id": "aflOnGyDBcC6",
        "colab": {
          "base_uri": "https://localhost:8080/"
        },
        "outputId": "5bafdc76-b3d2-4b18-f16f-f3abb747e244"
      },
      "execution_count": 33,
      "outputs": [
        {
          "output_type": "stream",
          "name": "stdout",
          "text": [
            "Masukkan bilangan: 4\n",
            "Masukkan bilangan lagi: 4\n",
            "Hasil: 8.0\n"
          ]
        }
      ]
    },
    {
      "cell_type": "code",
      "source": [
        "#PANGKAT\n",
        "# Input basis dan eksponen\n",
        "basis = float(input(\"Masukkan basis: \"))\n",
        "eksponen = float(input(\"Masukkan eksponen: \"))\n",
        "\n",
        "# Hitung pangkat\n",
        "hasil = basis ** eksponen\n",
        "\n",
        "# Hasil\n",
        "print(\"Hasil:\", hasil)\n"
      ],
      "metadata": {
        "id": "t-hpAIs_KXz3",
        "colab": {
          "base_uri": "https://localhost:8080/"
        },
        "outputId": "cda59b1d-9d50-4fac-bc42-4b12593d1c58"
      },
      "execution_count": 32,
      "outputs": [
        {
          "output_type": "stream",
          "name": "stdout",
          "text": [
            "Masukkan basis: 2\n",
            "Masukkan eksponen: 4\n",
            "Hasil: 16.0\n"
          ]
        }
      ]
    },
    {
      "cell_type": "code",
      "source": [
        "#SISA BAGI\n",
        "# Input bilangan dari pengguna\n",
        "bilangan1 = int(input(\"Masukkan bilangan : \"))\n",
        "bilangan2 = int(input(\"Masukkan bilangan lagi: \"))\n",
        "\n",
        "# Hitung sisa bagi\n",
        "hasil = bilangan1 % bilangan2\n",
        "\n",
        "# Hasil\n",
        "print(\"Sisa:\", hasil)\n",
        "\n"
      ],
      "metadata": {
        "id": "N0RfY2GrKZWp",
        "colab": {
          "base_uri": "https://localhost:8080/"
        },
        "outputId": "16a4150c-ed54-44ad-8991-b3622680e2df"
      },
      "execution_count": 31,
      "outputs": [
        {
          "output_type": "stream",
          "name": "stdout",
          "text": [
            "Masukkan bilangan : 4\n",
            "Masukkan bilangan lagi: 3\n",
            "Sisa: 1\n"
          ]
        }
      ]
    },
    {
      "cell_type": "code",
      "source": [
        "#AKAR KUADRAT\n",
        "import math\n",
        "\n",
        "# Input\n",
        "bilangan = float(input(\"Masukkan bilangan: \"))\n",
        "\n",
        "# Hitung akar\n",
        "hasil = math.sqrt(bilangan)\n",
        "\n",
        "# Hasil\n",
        "print(\"Akar:\", hasil)\n",
        "\n"
      ],
      "metadata": {
        "id": "TtuDnXUaKcQc",
        "colab": {
          "base_uri": "https://localhost:8080/"
        },
        "outputId": "0b7fe0a8-b9e9-4662-c58c-605d4b0871b3"
      },
      "execution_count": 30,
      "outputs": [
        {
          "output_type": "stream",
          "name": "stdout",
          "text": [
            "Masukkan bilangan: 49\n",
            "Akar: 7.0\n"
          ]
        }
      ]
    },
    {
      "cell_type": "code",
      "source": [
        "#LUAS SEGITIGA\n",
        "\n",
        "# Input tinggi dan alas segitiga\n",
        "tinggi = float(input(\"Masukkan tinggi segitiga: \"))\n",
        "alas = float(input(\"Masukkan alas segitiga: \"))\n",
        "\n",
        "# Hitung luas segitiga\n",
        "luas = 0.5 * tinggi * alas\n",
        "\n",
        "# Hasil\n",
        "print(\"Luas segitiga:\",luas)"
      ],
      "metadata": {
        "id": "Zmx4CMerKeZJ",
        "colab": {
          "base_uri": "https://localhost:8080/"
        },
        "outputId": "afaf227f-faec-4883-fa7e-19586ed865d5"
      },
      "execution_count": 29,
      "outputs": [
        {
          "output_type": "stream",
          "name": "stdout",
          "text": [
            "Masukkan tinggi segitiga: 5\n",
            "Masukkan alas segitiga: 4\n",
            "Luas segitiga: 10.0\n"
          ]
        }
      ]
    },
    {
      "cell_type": "markdown",
      "source": [
        "**PERTEMUAN 3**"
      ],
      "metadata": {
        "id": "lXFBn6KmDCSB"
      }
    },
    {
      "cell_type": "code",
      "source": [
        "#PERCABANGAN\n",
        "\n",
        "#if\n",
        "umur = 13\n",
        "if umur <= 18:\n",
        "  print(\"Anda belum cukup umur\")\n"
      ],
      "metadata": {
        "id": "feb21UQnDE94",
        "colab": {
          "base_uri": "https://localhost:8080/"
        },
        "outputId": "8aa76848-c593-42c3-e8c9-5759418bdcb7"
      },
      "execution_count": 27,
      "outputs": [
        {
          "output_type": "stream",
          "name": "stdout",
          "text": [
            "Anda belum cukup umur\n"
          ]
        }
      ]
    },
    {
      "cell_type": "code",
      "source": [
        "#if-else\n",
        "umur = 13\n",
        "if umur <= 18:\n",
        "  print(\"Anda belum cukup umur\")\n",
        "else :\n",
        "  Print(\"Anda sudah cukup umur\")\n"
      ],
      "metadata": {
        "id": "N6WRUiL1KjFP",
        "colab": {
          "base_uri": "https://localhost:8080/"
        },
        "outputId": "7d655145-cf5d-4acc-b761-f12f5a93232f"
      },
      "execution_count": 26,
      "outputs": [
        {
          "output_type": "stream",
          "name": "stdout",
          "text": [
            "Anda belum cukup umur\n"
          ]
        }
      ]
    },
    {
      "cell_type": "code",
      "source": [
        "#if-elif-else\n",
        "nilai = 75\n",
        "if nilai >= 90:\n",
        "    print(\"A\")\n",
        "elif nilai >= 80:\n",
        "    print(\"B\")\n",
        "elif nilai >= 70:\n",
        "    print(\"C\")\n",
        "else:\n",
        "    print(\"D\")\n",
        "\n"
      ],
      "metadata": {
        "id": "qA7DX78QKkhK",
        "colab": {
          "base_uri": "https://localhost:8080/"
        },
        "outputId": "a3c1e2fc-cdef-4d9c-daa1-13e7c2de35f3"
      },
      "execution_count": 25,
      "outputs": [
        {
          "output_type": "stream",
          "name": "stdout",
          "text": [
            "C\n"
          ]
        }
      ]
    },
    {
      "cell_type": "code",
      "source": [
        "#Percabangan bersarang\n",
        "\n",
        "bil = float(input(\"Masukkan bilangan: \"))\n",
        "\n",
        "if bil > 0:\n",
        "    # Bilangan positif\n",
        "    if bil % 2 == 0:\n",
        "        print(\"Bilangan positif dan genap\")\n",
        "    else:\n",
        "        print(\"Bilangan positif dan ganjil\")\n",
        "elif bil < 0:\n",
        "    # Bilangan negatif\n",
        "    print(\"Bilangan negatif\")\n",
        "else:\n",
        "    # Bilangan nol\n",
        "    print(\"Bilangan nol\")"
      ],
      "metadata": {
        "id": "aal33VrwKmWP",
        "colab": {
          "base_uri": "https://localhost:8080/"
        },
        "outputId": "160dd350-f10b-42d2-e87e-7568e5438a2f"
      },
      "execution_count": 24,
      "outputs": [
        {
          "output_type": "stream",
          "name": "stdout",
          "text": [
            "Masukkan bilangan: 4\n",
            "Bilangan positif dan genap\n"
          ]
        }
      ]
    },
    {
      "cell_type": "markdown",
      "source": [
        "**PERTEMUAN 4**"
      ],
      "metadata": {
        "id": "PtmLJo3lDrtA"
      }
    },
    {
      "cell_type": "code",
      "source": [
        "#BASIC PERULANGAN\n",
        "for i in range(200, 0,-2):\n",
        "    print(f\"ini perulangan ke {i}\")\n"
      ],
      "metadata": {
        "id": "n-zQ5UVvDuQP",
        "colab": {
          "base_uri": "https://localhost:8080/"
        },
        "outputId": "c390fe5d-cd32-48d7-b150-b831934440ae"
      },
      "execution_count": 23,
      "outputs": [
        {
          "output_type": "stream",
          "name": "stdout",
          "text": [
            "ini perulangan ke 200\n",
            "ini perulangan ke 198\n",
            "ini perulangan ke 196\n",
            "ini perulangan ke 194\n",
            "ini perulangan ke 192\n",
            "ini perulangan ke 190\n",
            "ini perulangan ke 188\n",
            "ini perulangan ke 186\n",
            "ini perulangan ke 184\n",
            "ini perulangan ke 182\n",
            "ini perulangan ke 180\n",
            "ini perulangan ke 178\n",
            "ini perulangan ke 176\n",
            "ini perulangan ke 174\n",
            "ini perulangan ke 172\n",
            "ini perulangan ke 170\n",
            "ini perulangan ke 168\n",
            "ini perulangan ke 166\n",
            "ini perulangan ke 164\n",
            "ini perulangan ke 162\n",
            "ini perulangan ke 160\n",
            "ini perulangan ke 158\n",
            "ini perulangan ke 156\n",
            "ini perulangan ke 154\n",
            "ini perulangan ke 152\n",
            "ini perulangan ke 150\n",
            "ini perulangan ke 148\n",
            "ini perulangan ke 146\n",
            "ini perulangan ke 144\n",
            "ini perulangan ke 142\n",
            "ini perulangan ke 140\n",
            "ini perulangan ke 138\n",
            "ini perulangan ke 136\n",
            "ini perulangan ke 134\n",
            "ini perulangan ke 132\n",
            "ini perulangan ke 130\n",
            "ini perulangan ke 128\n",
            "ini perulangan ke 126\n",
            "ini perulangan ke 124\n",
            "ini perulangan ke 122\n",
            "ini perulangan ke 120\n",
            "ini perulangan ke 118\n",
            "ini perulangan ke 116\n",
            "ini perulangan ke 114\n",
            "ini perulangan ke 112\n",
            "ini perulangan ke 110\n",
            "ini perulangan ke 108\n",
            "ini perulangan ke 106\n",
            "ini perulangan ke 104\n",
            "ini perulangan ke 102\n",
            "ini perulangan ke 100\n",
            "ini perulangan ke 98\n",
            "ini perulangan ke 96\n",
            "ini perulangan ke 94\n",
            "ini perulangan ke 92\n",
            "ini perulangan ke 90\n",
            "ini perulangan ke 88\n",
            "ini perulangan ke 86\n",
            "ini perulangan ke 84\n",
            "ini perulangan ke 82\n",
            "ini perulangan ke 80\n",
            "ini perulangan ke 78\n",
            "ini perulangan ke 76\n",
            "ini perulangan ke 74\n",
            "ini perulangan ke 72\n",
            "ini perulangan ke 70\n",
            "ini perulangan ke 68\n",
            "ini perulangan ke 66\n",
            "ini perulangan ke 64\n",
            "ini perulangan ke 62\n",
            "ini perulangan ke 60\n",
            "ini perulangan ke 58\n",
            "ini perulangan ke 56\n",
            "ini perulangan ke 54\n",
            "ini perulangan ke 52\n",
            "ini perulangan ke 50\n",
            "ini perulangan ke 48\n",
            "ini perulangan ke 46\n",
            "ini perulangan ke 44\n",
            "ini perulangan ke 42\n",
            "ini perulangan ke 40\n",
            "ini perulangan ke 38\n",
            "ini perulangan ke 36\n",
            "ini perulangan ke 34\n",
            "ini perulangan ke 32\n",
            "ini perulangan ke 30\n",
            "ini perulangan ke 28\n",
            "ini perulangan ke 26\n",
            "ini perulangan ke 24\n",
            "ini perulangan ke 22\n",
            "ini perulangan ke 20\n",
            "ini perulangan ke 18\n",
            "ini perulangan ke 16\n",
            "ini perulangan ke 14\n",
            "ini perulangan ke 12\n",
            "ini perulangan ke 10\n",
            "ini perulangan ke 8\n",
            "ini perulangan ke 6\n",
            "ini perulangan ke 4\n",
            "ini perulangan ke 2\n"
          ]
        }
      ]
    },
    {
      "cell_type": "code",
      "source": [
        "#Perulangan dari list\n",
        "foods = [\"ayam\", \"steak\", \"ikan\"]\n",
        "for food in foods:\n",
        "    print(f'Saya Suka Makan {food}')\n",
        "\n"
      ],
      "metadata": {
        "id": "ZbPYPqziKrTl",
        "colab": {
          "base_uri": "https://localhost:8080/"
        },
        "outputId": "0bcbb385-29af-4980-dd70-474b26da3cd8"
      },
      "execution_count": 11,
      "outputs": [
        {
          "output_type": "stream",
          "name": "stdout",
          "text": [
            "Saya Suka Makan ayam\n",
            "Saya Suka Makan steak\n",
            "Saya Suka Makan ikan\n"
          ]
        }
      ]
    },
    {
      "cell_type": "code",
      "source": [
        "#Karakter di string\n",
        "word = \"Haiii\"\n",
        "for char in word:\n",
        "    print(char, end=\"\")\n",
        "\n"
      ],
      "metadata": {
        "id": "nLWAwdK8KsnS",
        "colab": {
          "base_uri": "https://localhost:8080/"
        },
        "outputId": "6acebef2-8098-4f77-ddce-508f94657d47"
      },
      "execution_count": 12,
      "outputs": [
        {
          "output_type": "stream",
          "name": "stdout",
          "text": [
            "Haiii"
          ]
        }
      ]
    },
    {
      "cell_type": "code",
      "source": [
        "#While\n",
        "i = 3\n",
        "while i < 100:\n",
        "    print(i)\n",
        "    i += 3"
      ],
      "metadata": {
        "id": "m1-9Mbz6KuGy",
        "colab": {
          "base_uri": "https://localhost:8080/"
        },
        "outputId": "f6032806-c458-4c84-a397-d1267da9908d"
      },
      "execution_count": 15,
      "outputs": [
        {
          "output_type": "stream",
          "name": "stdout",
          "text": [
            "3\n",
            "6\n",
            "9\n",
            "12\n",
            "15\n",
            "18\n",
            "21\n",
            "24\n",
            "27\n",
            "30\n",
            "33\n",
            "36\n",
            "39\n",
            "42\n",
            "45\n",
            "48\n",
            "51\n",
            "54\n",
            "57\n",
            "60\n",
            "63\n",
            "66\n",
            "69\n",
            "72\n",
            "75\n",
            "78\n",
            "81\n",
            "84\n",
            "87\n",
            "90\n",
            "93\n",
            "96\n",
            "99\n"
          ]
        }
      ]
    },
    {
      "cell_type": "markdown",
      "source": [
        "**PERTEMUAN 5**"
      ],
      "metadata": {
        "id": "QYuBC57BGUJP"
      }
    },
    {
      "cell_type": "code",
      "source": [
        "#LOOP AND RANGE\n",
        "for i in range(20):\n",
        "    print(\"Perulangan ke- \", i)\n"
      ],
      "metadata": {
        "id": "M9rFhJoKGNz3",
        "colab": {
          "base_uri": "https://localhost:8080/"
        },
        "outputId": "db58d3f6-91c5-428e-f53a-d2b46d8d4658"
      },
      "execution_count": 14,
      "outputs": [
        {
          "output_type": "stream",
          "name": "stdout",
          "text": [
            "Perulangan ke-  0\n",
            "Perulangan ke-  1\n",
            "Perulangan ke-  2\n",
            "Perulangan ke-  3\n",
            "Perulangan ke-  4\n",
            "Perulangan ke-  5\n",
            "Perulangan ke-  6\n",
            "Perulangan ke-  7\n",
            "Perulangan ke-  8\n",
            "Perulangan ke-  9\n",
            "Perulangan ke-  10\n",
            "Perulangan ke-  11\n",
            "Perulangan ke-  12\n",
            "Perulangan ke-  13\n",
            "Perulangan ke-  14\n",
            "Perulangan ke-  15\n",
            "Perulangan ke-  16\n",
            "Perulangan ke-  17\n",
            "Perulangan ke-  18\n",
            "Perulangan ke-  19\n"
          ]
        }
      ]
    },
    {
      "cell_type": "code",
      "source": [
        "#CONTOH\n",
        "n = int(input(\"jumlah baris: \"))\n",
        "for i in range(n):\n",
        "    for j in range(i+1):\n",
        "        print(j+1,end=\" \")\n",
        "    print(' ')"
      ],
      "metadata": {
        "id": "lkla-ZEvKxC3",
        "colab": {
          "base_uri": "https://localhost:8080/"
        },
        "outputId": "2da4707c-1315-4627-d370-69a6fec60af0"
      },
      "execution_count": 17,
      "outputs": [
        {
          "output_type": "stream",
          "name": "stdout",
          "text": [
            "jumlah baris: 5\n",
            "1  \n",
            "1 2  \n",
            "1 2 3  \n",
            "1 2 3 4  \n",
            "1 2 3 4 5  \n"
          ]
        }
      ]
    },
    {
      "cell_type": "markdown",
      "source": [
        "**PERTEMUAN 6 QUIZ**"
      ],
      "metadata": {
        "id": "fRWYjJI7GlFX"
      }
    },
    {
      "cell_type": "markdown",
      "source": [
        "**PERTEMUAN 7**"
      ],
      "metadata": {
        "id": "DAE24xWoFKPY"
      }
    },
    {
      "cell_type": "code",
      "source": [
        "#FUNGSI\n",
        "\n",
        "#Format fungsi\n",
        "def nama_fungsi(parameterFormal1, parameterFormalN):\n",
        "\t# function body / process\n",
        "\t# function body / process\n",
        "\t# function body / process\n",
        "\treturn returned_variable # opsional, sesuai kebutuhan\n",
        "\n",
        "#CONTOH FUNGSI\n",
        "def selamat_datang (nama):\n",
        "    print(f'Halo {nama}, selamat datang!')\n",
        "\n",
        "selamat_datang('Nurul')\n",
        "selamat_datang('Lendis')\n",
        "selamat_datang('Fabri')\n",
        "selamat_datang('isa')\n",
        "\n",
        "#Fungsi tanpa return value\n",
        "def predikatMahasiswa(nilai1, nilai2, nilai3):\n",
        "    rataRata = (nilai1 + nilai2 + nilai3)/3\n",
        "    if rataRata >= 80 and rataRata <= 100:\n",
        "        print(\"Selamat, predikat kamu A!\")\n",
        "    elif rataRata >= 60 and rataRata < 80:\n",
        "        print(\"Predikat kamu B, pertahankan yaa!\")\n",
        "    elif rataRata >= 30 and rataRata < 60:\n",
        "        print(\"Predikat kamu C, perbaiki ya!\")\n",
        "    elif rataRata >= 0 and rataRata < 30:\n",
        "        print(\"Mending pulang deck\")\n",
        "\n",
        "nilaiMhs1 = int(input(\"Masukkan nilai pertama: \"))\n",
        "nilaiMhs2 = int(input(\"Masukkan nilai kedua: \"))\n",
        "nilaiMhs3 = int(input(\"Masukkan nilai ketiga: \"))\n",
        "\n",
        "#Fungsi dengan return value\n",
        "def luasSegitiga(alas, tinggi):\n",
        "    result = 0.5*alas*tinggi\n",
        "    return result\n",
        "\n",
        "hasilLuas = luasSegitiga(10, 10)\n",
        "print(f\"Luas Segitiga: {hasilLuas}\")"
      ],
      "metadata": {
        "id": "rto4GY7JFBDH",
        "colab": {
          "base_uri": "https://localhost:8080/"
        },
        "outputId": "acca14e6-0ba8-4a79-da70-82bb98101ba5"
      },
      "execution_count": 19,
      "outputs": [
        {
          "output_type": "stream",
          "name": "stdout",
          "text": [
            "Halo Nurul, selamat datang!\n",
            "Halo Lendis, selamat datang!\n",
            "Halo Fabri, selamat datang!\n",
            "Halo isa, selamat datang!\n",
            "Masukkan nilai pertama: 90\n",
            "Masukkan nilai kedua: 85\n",
            "Masukkan nilai ketiga: 70\n",
            "Luas Segitiga: 50.0\n"
          ]
        }
      ]
    },
    {
      "cell_type": "markdown",
      "source": [
        "**PERTEMUAN 8 Dan 9 UTS dan PEMBAHASAN UTS**"
      ],
      "metadata": {
        "id": "-1G_V7quGyOz"
      }
    },
    {
      "cell_type": "markdown",
      "source": [
        "**PERTEMUAN 10 MEMBUAT SOAL SENDIRI**"
      ],
      "metadata": {
        "id": "eL4SFmXvG8lz"
      }
    },
    {
      "cell_type": "code",
      "source": [
        "#SOAL PERTAMA\n",
        "nilai = [87,75,89,39,27,91]\n",
        "\n",
        "for i in nilai:\n",
        "  if 100 >= i >= 90:\n",
        "    print(f\"Siswa dengan nilai {i} Lulus Dengan Sempurna\")\n",
        "  elif 89 >= i > 80:\n",
        "    print(f\"Siswa dengan nilai {i} Lulus Dengan Baik\")\n",
        "  elif 79 >= i > 70:\n",
        "    print(f\"Siswa dengan nilai {i} Lulus\")\n",
        "  else :\n",
        "    print(f\"Siswa dengan nilai {i} Tidak Lulus\")\n"
      ],
      "metadata": {
        "id": "XzeRgrj5G5eu",
        "colab": {
          "base_uri": "https://localhost:8080/"
        },
        "outputId": "dbce3cbe-a28e-45e2-c091-b9337bac8f05"
      },
      "execution_count": 22,
      "outputs": [
        {
          "output_type": "stream",
          "name": "stdout",
          "text": [
            "Siswa dengan nilai 87 Lulus Dengan Baik\n",
            "Siswa dengan nilai 75 Lulus\n",
            "Siswa dengan nilai 89 Lulus Dengan Baik\n",
            "Siswa dengan nilai 39 Tidak Lulus\n",
            "Siswa dengan nilai 27 Tidak Lulus\n",
            "Siswa dengan nilai 91 Lulus Dengan Sempurna\n"
          ]
        }
      ]
    },
    {
      "cell_type": "code",
      "source": [
        "#SOAL KEDUA\n",
        "Lama_anak_bekerja = [1,3,2,7,4]\n",
        "Total = 0\n",
        "a = 100000\n",
        "b = 200000\n",
        "c = 400000\n",
        "uang_saku = []\n",
        "for i in Lama_anak_bekerja:\n",
        "  if i <= 1 :\n",
        "    print(f\"Anak ini mendapatkan uang jajan sebesar Rp.{a}\")\n",
        "    uang_saku.append(a)\n",
        "  elif 2<= i <= 4 :\n",
        "    print(f\"Anak ini mendapatkan uang jajan sebesar Rp.{b}\")\n",
        "    uang_saku.append(b)\n",
        "  else :\n",
        "    print(f\"Anak ini mendapatkan uang jajan sebesar Rp.{c}\")\n",
        "    uang_saku.append(c)\n",
        "print(uang_saku)\n",
        "for i in uang_saku:\n",
        "  Total += i\n",
        "print(f\"Total uang yang dikeluarkan orang tua adalah Rp.{Total}\")"
      ],
      "metadata": {
        "colab": {
          "base_uri": "https://localhost:8080/"
        },
        "id": "OYAn_agrMd0J",
        "outputId": "3242279c-1ad8-449d-a94f-e3b4986c326a"
      },
      "execution_count": 21,
      "outputs": [
        {
          "output_type": "stream",
          "name": "stdout",
          "text": [
            "Anak ini mendapatkan uang jajan sebesar Rp.100000\n",
            "Anak ini mendapatkan uang jajan sebesar Rp.200000\n",
            "Anak ini mendapatkan uang jajan sebesar Rp.200000\n",
            "Anak ini mendapatkan uang jajan sebesar Rp.400000\n",
            "Anak ini mendapatkan uang jajan sebesar Rp.200000\n",
            "[100000, 200000, 200000, 400000, 200000]\n",
            "Total uang yang dikeluarkan orang tua adalah Rp.1100000\n"
          ]
        }
      ]
    }
  ]
}