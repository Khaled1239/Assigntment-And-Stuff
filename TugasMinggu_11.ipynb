{
  "nbformat": 4,
  "nbformat_minor": 0,
  "metadata": {
    "colab": {
      "provenance": []
    },
    "kernelspec": {
      "name": "python3",
      "display_name": "Python 3"
    },
    "language_info": {
      "name": "python"
    }
  },
  "cells": [
    {
      "cell_type": "markdown",
      "source": [
        "**KHALID MUHAMMAD\n",
        "103102400033\n",
        "DS-04-02**"
      ],
      "metadata": {
        "id": "6u_ujoPm8xIk"
      }
    },
    {
      "cell_type": "markdown",
      "source": [
        "**PERTEMUAN 1**"
      ],
      "metadata": {
        "id": "dduf8di99eia"
      }
    },
    {
      "cell_type": "code",
      "source": [
        "#Cara Print\n",
        "print(\"HaiHaiHai\")\n",
        "print(f\"HaiHaiHai\")\n",
        "\n",
        "#Komentar\n",
        "\"\"\"\n",
        "ini juga komentar gaes, tapi bisa banyak baris\n",
        "ini juga komentar gaes, tapi bisa banyak baris\n",
        "ini juga komentar gaes, tapi bisa banyak baris\n",
        "ini juga komentar gaes, tapi bisa banyak baris\n",
        "\"\"\"\n",
        "print(\"Komentar tidak akan mengeluarkan output apapun\")\n",
        "\n",
        "\n",
        "#Variable\n",
        "\"\"\"\n",
        "Aturan Penulisan Variabel:\n",
        "\n",
        "    Nama variabel boleh diawali menggunakan huruf atau garis bawah _. Contoh: nama, _nama, namaKu, nama_variabel\n",
        "    Karakter selanjutnya dapat berupa huruf, garis bawah _ atau angka. Contoh: __nama, n2, nilai1\n",
        "    Variabel tidak boleh dimulai dengan angka ataupun simbol.\n",
        "    Variabel tidak boleh berupa kata kunci (keyword) yang ada dalam Python. Contoh: if, else, while, for, dan masih banyak lagi\n",
        "\n",
        "\"\"\"\n",
        "# Variabel\n",
        "Nama = \"Khalid\"\n",
        "umur = 100\n",
        "status_pernikahan = \"Belum Menikah\"\n",
        "statuspernikahan = \"Belum Menikah\"\n",
        "\n",
        "#Tipe Data\n",
        "bilangan_bulat = 10\n",
        "bilangan_desimal = 3.14\n",
        "teks = \"Waddup Son\"\n",
        "teks_multibaris = '''Corvo\n",
        "dan\n",
        "Emily'''\n",
        "boolean = True\n",
        "\n",
        "# Menampilkan nilai variabel\n",
        "nama = \"Corvo\"\n",
        "print('Nama:', nama, 'dan Umur:', umur)\n",
        "print(f\"Nama: {nama} dan Umur: {umur}\")\n",
        "print('\\n')\n",
        "print(teks_multibaris)\n",
        "\n",
        "#Multi Statement\n",
        "nama = \"Khalid\"\n",
        "a = 10; b = 50\n",
        "kesibukan, keterangan = 'Berkuliah','Telkom University Surabaya'\n",
        "print(f\"Nama saya {nama} dan Umur saya adalah {a+b} Tahun dan sedang {kesibukan} di {keterangan}\")\n",
        "\n",
        "#Input\n",
        "nama = input(\"Masukkan nama Anda: \")\n",
        "makan = 'sudah'\n",
        "harga = int(input(\"Berapa harganya?: \"))\n",
        "\n",
        "print('\\n')\n",
        "print(\"Hai saya\", nama, 'dan saya', makan, 'makan malam menghabiskan uang sebanyak Rp', harga)\n",
        "\n",
        "#import Modul\n",
        "import numpy\n",
        "import pandas as pd\n",
        "import matplotlib.pyplot as plt\n",
        "import seaborn as sns\n",
        "from math import sqrt\n",
        "from pandas import DataFrame\n",
        "from numpy import random\n",
        "\n",
        "#Percabangan\n",
        "nilai = int(input(\"Masukkan nilaimu: \"))\n",
        "\n",
        "if nilai >= 70:\n",
        "    print(\"Selamat anda lulus MatKul Algoritma & Pemrograman!\")\n",
        "elif nilai == 20:\n",
        "    print('Semoga Lulus')\n",
        "else:\n",
        "    print(\"Maaf anda tidak lulus\")\n",
        "\n",
        "#Looping And While\n",
        "for i in range(1,5):\n",
        "    print(i)\n",
        "    print('Namaku',i)\n",
        "\n",
        "names = ['Corvo',\"Attano\",\"Rex\",\"Sylvia\"]\n",
        "for name in names:\n",
        "    print(\"Nama Saya\",name)\n",
        "    print(\"dan\",name)\n",
        "\n",
        "#Fungsi\n",
        "def jumlah(angka1, angka2):\n",
        "    hasil = angka1+angka2\n",
        "    return hasil\n",
        "\n",
        "def pengurangan(angka1, angka2):\n",
        "    hasil = angka1-angka2\n",
        "    return hasil\n",
        "jumlah(10,4)\n",
        "pengurangan(10,15)"
      ],
      "metadata": {
        "colab": {
          "base_uri": "https://localhost:8080/"
        },
        "id": "qcOVi30L9pp3",
        "outputId": "277f2b7e-b860-4cbb-cb41-d1c3fcc0ed02"
      },
      "execution_count": 2,
      "outputs": [
        {
          "output_type": "stream",
          "name": "stdout",
          "text": [
            "HaiHaiHai\n",
            "HaiHaiHai\n",
            "Komentar tidak akan mengeluarkan output apapun\n",
            "Nama: Corvo dan Umur: 100\n",
            "Nama: Corvo dan Umur: 100\n",
            "\n",
            "\n",
            "Corvo\n",
            "dan\n",
            "Emily\n",
            "Nama saya Khalid dan Umur saya adalah 60 Tahun dan sedang Berkuliah di Telkom University Surabaya\n",
            "Masukkan nama Anda: Khise\n",
            "Berapa harganya?: 900000\n",
            "\n",
            "\n",
            "Hai saya Khise dan saya sudah makan malam menghabiskan uang sebanyak Rp 900000\n",
            "Masukkan nilaimu: 90\n",
            "Selamat anda lulus MatKul Algoritma & Pemrograman!\n",
            "1\n",
            "Namaku 1\n",
            "2\n",
            "Namaku 2\n",
            "3\n",
            "Namaku 3\n",
            "4\n",
            "Namaku 4\n",
            "Nama Saya Corvo\n",
            "dan Corvo\n",
            "Nama Saya Attano\n",
            "dan Attano\n",
            "Nama Saya Rex\n",
            "dan Rex\n",
            "Nama Saya Sylvia\n",
            "dan Sylvia\n"
          ]
        },
        {
          "output_type": "execute_result",
          "data": {
            "text/plain": [
              "-5"
            ]
          },
          "metadata": {},
          "execution_count": 2
        }
      ]
    },
    {
      "cell_type": "markdown",
      "source": [
        "**PERTEMUAN 2**"
      ],
      "metadata": {
        "id": "6EFXt3f-BWJG"
      }
    },
    {
      "cell_type": "code",
      "source": [
        "#PENJUMLAHAN SEDERHANA\n",
        "# Input bilangan\n",
        "bilangan1 = float(input(\"Masukkan bilangan: \"))\n",
        "bilangan2 = float(input(\"Masukkan bilangan lagi: \"))\n",
        "\n",
        "# Penjumlahan\n",
        "hasil = bilangan1 + bilangan2\n",
        "\n",
        "# Hasil\n",
        "print(\"Hasil:\", hasil)\n",
        "\n",
        "#PANGKAT\n",
        "# Input basis dan eksponen\n",
        "basis = float(input(\"Masukkan basis: \"))\n",
        "eksponen = float(input(\"Masukkan eksponen: \"))\n",
        "\n",
        "# Hitung pangkat\n",
        "hasil = basis ** eksponen\n",
        "\n",
        "# Hasil\n",
        "print(\"Hasil:\", hasil)\n",
        "\n",
        "#SISA BAGI\n",
        "# Input bilangan dari pengguna\n",
        "bilangan1 = int(input(\"Masukkan bilangan : \"))\n",
        "bilangan2 = int(input(\"Masukkan bilangan lagi: \"))\n",
        "\n",
        "# Hitung sisa bagi\n",
        "hasil = bilangan1 % bilangan2\n",
        "\n",
        "# Hasil\n",
        "print(\"Sisa:\", hasil)\n",
        "\n",
        "#AKAR KUADRAT\n",
        "import math\n",
        "\n",
        "# Input\n",
        "bilangan = float(input(\"Masukkan bilangan: \"))\n",
        "\n",
        "# Hitung akar\n",
        "hasil = math.sqrt(bilangan)\n",
        "\n",
        "# Hasil\n",
        "print(\"Akar:\", hasil)\n",
        "\n",
        "#LUAS SEGITIGA\n",
        "\n",
        "# Input tinggi dan alas segitiga\n",
        "tinggi = float(input(\"Masukkan tinggi segitiga: \"))\n",
        "alas = float(input(\"Masukkan alas segitiga: \"))\n",
        "\n",
        "# Hitung luas segitiga\n",
        "luas = 0.5 * tinggi * alas\n",
        "\n",
        "# Hasil\n",
        "print(\"Luas segitiga:\", luas)"
      ],
      "metadata": {
        "id": "aflOnGyDBcC6"
      },
      "execution_count": null,
      "outputs": []
    },
    {
      "cell_type": "markdown",
      "source": [
        "**PERTEMUAN 3**"
      ],
      "metadata": {
        "id": "lXFBn6KmDCSB"
      }
    },
    {
      "cell_type": "code",
      "source": [
        "#PERCABANGAN\n",
        "\n",
        "#if\n",
        "umur = 13\n",
        "if umur <= 18:\n",
        "  print(\"Anda belum cukup umur\")\n",
        "\n",
        "#if-else\n",
        "umur = 13\n",
        "if umur <= 18:\n",
        "  print(\"Anda belum cukup umur\")\n",
        "else :\n",
        "  Print(\"Anda sudah cukup umur\")\n",
        "\n",
        "#if-elif-else\n",
        "nilai = 75\n",
        "if nilai >= 90:\n",
        "    print(\"A\")\n",
        "elif nilai >= 80:\n",
        "    print(\"B\")\n",
        "elif nilai >= 70:\n",
        "    print(\"C\")\n",
        "else:\n",
        "    print(\"D\")\n",
        "\n",
        "#Percabangan bersarang\n",
        "\n",
        "bil = float(input(\"Masukkan bilangan: \"))\n",
        "\n",
        "if bil > 0:\n",
        "    # Bilangan positif\n",
        "    if bil % 2 == 0:\n",
        "        print(\"Bilangan positif dan genap\")\n",
        "    else:\n",
        "        print(\"Bilangan positif dan ganjil\")\n",
        "elif bil < 0:\n",
        "    # Bilangan negatif\n",
        "    print(\"Bilangan negatif\")\n",
        "else:\n",
        "    # Bilangan nol\n",
        "    print(\"Bilangan nol\")"
      ],
      "metadata": {
        "id": "feb21UQnDE94"
      },
      "execution_count": null,
      "outputs": []
    },
    {
      "cell_type": "markdown",
      "source": [
        "**PERTEMUAN 4**"
      ],
      "metadata": {
        "id": "PtmLJo3lDrtA"
      }
    },
    {
      "cell_type": "code",
      "source": [
        "#BASIC PERULANGAN\n",
        "for i in range(200, 0,-2):\n",
        "    print(f\"ini perulangan ke {i}\")\n",
        "\n",
        "#Perulangan dari list\n",
        "foods = [\"ayam\", \"steak\", \"ikan\"]\n",
        "for food in foods:\n",
        "    print(f'Saya Suka Makan {food}')\n",
        "\n",
        "#Karakter di string\n",
        "word = \"Haiii\"\n",
        "for char in word:\n",
        "    print(char, end=\"\")\n",
        "\n",
        "#While\n",
        "i = 3\n",
        "while i < 100:\n",
        "    print(i)\n",
        "    i = i + 3"
      ],
      "metadata": {
        "id": "n-zQ5UVvDuQP"
      },
      "execution_count": null,
      "outputs": []
    },
    {
      "cell_type": "markdown",
      "source": [
        "**PERTEMUAN 5**"
      ],
      "metadata": {
        "id": "QYuBC57BGUJP"
      }
    },
    {
      "cell_type": "code",
      "source": [
        "#LOOP AND RANGE\n",
        "for i in range(20):\n",
        "    print(\"Perulangan ke- \", i)\n",
        "\n",
        "#CONTOH\n",
        "n = int(input(\"jumlah baris: \"))\n",
        "for i in range(n):\n",
        "    for j in range(i+1):\n",
        "        print(j+1,end=\" \")\n",
        "    print(' ')"
      ],
      "metadata": {
        "id": "M9rFhJoKGNz3"
      },
      "execution_count": null,
      "outputs": []
    },
    {
      "cell_type": "markdown",
      "source": [
        "**PERTEMUAN 6 QUIZ**"
      ],
      "metadata": {
        "id": "fRWYjJI7GlFX"
      }
    },
    {
      "cell_type": "markdown",
      "source": [
        "**PERTEMUAN 7**"
      ],
      "metadata": {
        "id": "DAE24xWoFKPY"
      }
    },
    {
      "cell_type": "code",
      "source": [
        "#FUNGSI\n",
        "\n",
        "#Format fungsi\n",
        "def nama_fungsi(parameterFormal1, parameterFormalN):\n",
        "\t# function body / process\n",
        "\t# function body / process\n",
        "\t# function body / process\n",
        "\treturn returned_variable # opsional, sesuai kebutuhan\n",
        "#Format pemanggilan fungsi\n",
        "var = nama_fungsi(parameterAktual1, parameterAktualN) # jika fungsi mengembalikan nilai\n",
        "nama_fungsi(parameterAktual1, parameterAktual) #Jika fungsi tidak mengembalikan nilai\n",
        "\n",
        "#CONTOH FUNGSI\n",
        "def selamat_datang (nama):\n",
        "    print(f'Halo {nama}, selamat datang!')\n",
        "\n",
        "selamat_datang('Nurul')\n",
        "selamat_datang('Lendis')\n",
        "selamat_datang('Fabri')\n",
        "selamat_datang('isa')\n",
        "\n",
        "#Fungsi tanpa return value\n",
        "def predikatMahasiswa(nilai1, nilai2, nilai3):\n",
        "    rataRata = (nilai1 + nilai2 + nilai3)/3\n",
        "    if rataRata >= 80 and rataRata <= 100:\n",
        "        print(\"Selamat, predikat kamu A!\")\n",
        "    elif rataRata >= 60 and rataRata < 80:\n",
        "        print(\"Predikat kamu B, pertahankan yaa!\")\n",
        "    elif rataRata >= 30 and rataRata < 60:\n",
        "        print(\"Predikat kamu C, perbaiki ya!\")\n",
        "    elif rataRata >= 0 and rataRata < 30:\n",
        "        print(\"Mending pulang deck\")\n",
        "\n",
        "nilaiMhs1 = int(input(\"Masukkan nilai pertama: \"))\n",
        "nilaiMhs2 = int(input(\"Masukkan nilai kedua: \"))\n",
        "nilaiMhs3 = int(input(\"Masukkan nilai ketiga: \"))\n",
        "\n",
        "#Fungsi dengan return value\n",
        "def luasSegitiga(alas, tinggi):\n",
        "    result = 0.5*alas*tinggi\n",
        "    return result\n",
        "\n",
        "hasilLuas = luasSegitiga(10, 10)\n",
        "print(f\"Luas Segitiga: {hasilLuas}\")"
      ],
      "metadata": {
        "id": "rto4GY7JFBDH"
      },
      "execution_count": null,
      "outputs": []
    },
    {
      "cell_type": "markdown",
      "source": [
        "**PERTEMUAN 8 Dan 9 UTS dan PEMBAHASAN UTS**"
      ],
      "metadata": {
        "id": "-1G_V7quGyOz"
      }
    },
    {
      "cell_type": "markdown",
      "source": [
        "**PERTEMUAN 10 MEMBUAT SOAL SENDIRI**"
      ],
      "metadata": {
        "id": "eL4SFmXvG8lz"
      }
    },
    {
      "cell_type": "code",
      "source": [
        "#SOAL PERTAMA\n",
        "nilai = [87,75,89,39,27,91]\n",
        "\n",
        "for i in nilai:\n",
        "  if 100 >= i >= 90:\n",
        "    print(f\"Siswa dengan nilai {i} Lulus Dengan Sempurna\")\n",
        "  elif 89 >= i > 80:\n",
        "    print(f\"Siswa dengan nilai {i} Lulus Dengan Baik\")\n",
        "  elif 79 >= i > 70:\n",
        "    print(f\"Siswa dengan nilai {i} Lulus\")\n",
        "  else :\n",
        "    print(f\"Siswa dengan nilai {i} Tidak Lulus\")\n",
        "\n",
        "#SOAL KEDUA\n",
        "Lama_anak_bekerja = [1,3,2,7,4]\n",
        "Total = 0\n",
        "a = 100000\n",
        "b = 200000\n",
        "c = 400000\n",
        "uang_saku = []\n",
        "for i in Lama_anak_bekerja:\n",
        "  if i <= 1 :\n",
        "    print(f\"Anak ini mendapatkan uang jajan sebesar Rp.{a}\")\n",
        "    uang_saku.append(a)\n",
        "  elif 2<= i <= 4 :\n",
        "    print(f\"Anak ini mendapatkan uang jajan sebesar Rp.{b}\")\n",
        "    uang_saku.append(b)\n",
        "  else :\n",
        "    print(f\"Anak ini mendapatkan uang jajan sebesar Rp.{c}\")\n",
        "    uang_saku.append(c)\n",
        "print(uang_saku)\n",
        "for i in uang_saku:\n",
        "  Total += i\n",
        "print(f\"Total uang yang dikeluarkan orang tua adalah Rp.{Total}\")"
      ],
      "metadata": {
        "id": "XzeRgrj5G5eu"
      },
      "execution_count": null,
      "outputs": []
    }
  ]
}